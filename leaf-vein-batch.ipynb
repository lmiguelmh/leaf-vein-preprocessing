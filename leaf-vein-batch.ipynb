{
 "cells": [
  {
   "cell_type": "markdown",
   "metadata": {},
   "source": [
    "#### Playground"
   ]
  },
  {
   "cell_type": "code",
   "execution_count": 11,
   "metadata": {
    "collapsed": false
   },
   "outputs": [
    {
     "name": "stdout",
     "output_type": "stream",
     "text": [
      "D:\\projects\\leaf-vein-segmentation\\doc\\problem\\hojas\\ag1-ag10\\ag1.tif\n",
      "D:\\projects\\leaf-vein-segmentation\\doc\\problem\\hojas\\ag1-ag10\\ag1.tif-1filt.jpg  file written\n",
      "D:\\projects\\leaf-vein-segmentation\\doc\\problem\\hojas\\ag1-ag10\\ag1.tif-2bin.jpg  file written\n",
      "D:\\projects\\leaf-vein-segmentation\\doc\\problem\\hojas\\ag1-ag10\\ag1.tif-3vein.jpg  file written\n",
      "\n",
      "D:\\projects\\leaf-vein-segmentation\\doc\\problem\\hojas\\ag1-ag10\\ag10.tif\n",
      "D:\\projects\\leaf-vein-segmentation\\doc\\problem\\hojas\\ag1-ag10\\ag10.tif-1filt.jpg  file written\n",
      "D:\\projects\\leaf-vein-segmentation\\doc\\problem\\hojas\\ag1-ag10\\ag10.tif-2bin.jpg  file written\n",
      "D:\\projects\\leaf-vein-segmentation\\doc\\problem\\hojas\\ag1-ag10\\ag10.tif-3vein.jpg  file written\n",
      "\n",
      "D:\\projects\\leaf-vein-segmentation\\doc\\problem\\hojas\\ag1-ag10\\ag2.tif\n",
      "D:\\projects\\leaf-vein-segmentation\\doc\\problem\\hojas\\ag1-ag10\\ag2.tif-1filt.jpg  file written\n",
      "D:\\projects\\leaf-vein-segmentation\\doc\\problem\\hojas\\ag1-ag10\\ag2.tif-2bin.jpg  file written\n",
      "D:\\projects\\leaf-vein-segmentation\\doc\\problem\\hojas\\ag1-ag10\\ag2.tif-3vein.jpg  file written\n",
      "\n",
      "D:\\projects\\leaf-vein-segmentation\\doc\\problem\\hojas\\ag1-ag10\\ag3.tif\n",
      "D:\\projects\\leaf-vein-segmentation\\doc\\problem\\hojas\\ag1-ag10\\ag3.tif-1filt.jpg  file written\n",
      "D:\\projects\\leaf-vein-segmentation\\doc\\problem\\hojas\\ag1-ag10\\ag3.tif-2bin.jpg  file written\n",
      "D:\\projects\\leaf-vein-segmentation\\doc\\problem\\hojas\\ag1-ag10\\ag3.tif-3vein.jpg  file written\n",
      "\n",
      "D:\\projects\\leaf-vein-segmentation\\doc\\problem\\hojas\\ag1-ag10\\ag4.tif\n",
      "D:\\projects\\leaf-vein-segmentation\\doc\\problem\\hojas\\ag1-ag10\\ag4.tif-1filt.jpg  file written\n",
      "D:\\projects\\leaf-vein-segmentation\\doc\\problem\\hojas\\ag1-ag10\\ag4.tif-2bin.jpg  file written\n",
      "D:\\projects\\leaf-vein-segmentation\\doc\\problem\\hojas\\ag1-ag10\\ag4.tif-3vein.jpg  file written\n",
      "\n",
      "D:\\projects\\leaf-vein-segmentation\\doc\\problem\\hojas\\ag1-ag10\\ag5.tif\n",
      "D:\\projects\\leaf-vein-segmentation\\doc\\problem\\hojas\\ag1-ag10\\ag5.tif-1filt.jpg  file written\n",
      "D:\\projects\\leaf-vein-segmentation\\doc\\problem\\hojas\\ag1-ag10\\ag5.tif-2bin.jpg  file written\n",
      "D:\\projects\\leaf-vein-segmentation\\doc\\problem\\hojas\\ag1-ag10\\ag5.tif-3vein.jpg  file written\n",
      "\n",
      "D:\\projects\\leaf-vein-segmentation\\doc\\problem\\hojas\\ag1-ag10\\ag6.tif\n",
      "D:\\projects\\leaf-vein-segmentation\\doc\\problem\\hojas\\ag1-ag10\\ag6.tif-1filt.jpg  file written\n",
      "D:\\projects\\leaf-vein-segmentation\\doc\\problem\\hojas\\ag1-ag10\\ag6.tif-2bin.jpg  file written\n",
      "D:\\projects\\leaf-vein-segmentation\\doc\\problem\\hojas\\ag1-ag10\\ag6.tif-3vein.jpg  file written\n",
      "\n",
      "D:\\projects\\leaf-vein-segmentation\\doc\\problem\\hojas\\ag1-ag10\\ag7.tif\n",
      "D:\\projects\\leaf-vein-segmentation\\doc\\problem\\hojas\\ag1-ag10\\ag7.tif-1filt.jpg  file written\n",
      "D:\\projects\\leaf-vein-segmentation\\doc\\problem\\hojas\\ag1-ag10\\ag7.tif-2bin.jpg  file written\n",
      "D:\\projects\\leaf-vein-segmentation\\doc\\problem\\hojas\\ag1-ag10\\ag7.tif-3vein.jpg  file written\n",
      "\n",
      "D:\\projects\\leaf-vein-segmentation\\doc\\problem\\hojas\\ag1-ag10\\ag8.tif\n",
      "D:\\projects\\leaf-vein-segmentation\\doc\\problem\\hojas\\ag1-ag10\\ag8.tif-1filt.jpg  file written\n",
      "D:\\projects\\leaf-vein-segmentation\\doc\\problem\\hojas\\ag1-ag10\\ag8.tif-2bin.jpg  file written\n",
      "D:\\projects\\leaf-vein-segmentation\\doc\\problem\\hojas\\ag1-ag10\\ag8.tif-3vein.jpg  file written\n",
      "\n",
      "D:\\projects\\leaf-vein-segmentation\\doc\\problem\\hojas\\ag1-ag10\\ag9.tif\n",
      "D:\\projects\\leaf-vein-segmentation\\doc\\problem\\hojas\\ag1-ag10\\ag9.tif-1filt.jpg  file written\n",
      "D:\\projects\\leaf-vein-segmentation\\doc\\problem\\hojas\\ag1-ag10\\ag9.tif-2bin.jpg  file written\n",
      "D:\\projects\\leaf-vein-segmentation\\doc\\problem\\hojas\\ag1-ag10\\ag9.tif-3vein.jpg  file written\n",
      "\n"
     ]
    }
   ],
   "source": [
    "% matplotlib inline\n",
    "\n",
    "import os\n",
    "import cv2\n",
    "import matplotlib.pyplot as plt\n",
    "import numpy as np\n",
    "import scipy.fftpack\n",
    "import hf\n",
    "import filters\n",
    "import contours\n",
    "import batch\n",
    "\n",
    "directory = \"D:\\\\projects\\\\leaf-vein-segmentation\\\\doc\\\\problem\\\\hojas\\\\ag1-ag10\\\\\"\n",
    "# directory = \"D:\\\\projects\\\\leaf-vein-segmentation\\\\doc\\\\problem\\\\hojas\\\\bg1-bg10\\\\\"  \n",
    "# directory = \"D:\\\\projects\\\\leaf-vein-segmentation\\\\doc\\\\problem\\\\hojas\\\\cg1-cg10\\\\\"\n",
    "# directory = \"D:\\\\projects\\\\leaf-vein-segmentation\\\\doc\\\\problem\\\\hojas\\\\dg1-dg5\\\\\"\n",
    "# directory = \"D:\\\\projects\\\\leaf-vein-segmentation\\\\doc\\\\problem\\\\hojas\\\\gg1-gg3\\\\\" \n",
    "# directory = \"D:\\\\projects\\\\leaf-vein-segmentation\\\\doc\\\\problem\\\\hojas\\\\hg1-hg3\\\\\"\n",
    "# directory = \"D:\\\\projects\\\\leaf-vein-segmentation\\\\doc\\\\problem\\\\hojas\\\\ig1-ig3\\\\\"\n",
    "\n",
    "files = batch.get_files(directory, \".tif\")\n",
    "# files = [\"dg5.tif\"]\n",
    "\n",
    "for file in files:\n",
    "    img_path = directory + file\n",
    "    batch.process_leaf(img_path)\n",
    "    print()"
   ]
  }
 ],
 "metadata": {
  "anaconda-cloud": {},
  "kernelspec": {
   "display_name": "Python [conda root]",
   "language": "python",
   "name": "conda-root-py"
  },
  "language_info": {
   "codemirror_mode": {
    "name": "ipython",
    "version": 3
   },
   "file_extension": ".py",
   "mimetype": "text/x-python",
   "name": "python",
   "nbconvert_exporter": "python",
   "pygments_lexer": "ipython3",
   "version": "3.5.2"
  }
 },
 "nbformat": 4,
 "nbformat_minor": 0
}
